{
 "cells": [
  {
   "cell_type": "code",
   "execution_count": null,
   "id": "324844e1",
   "metadata": {},
   "outputs": [
    {
     "name": "stdout",
     "output_type": "stream",
     "text": [
      "\t\t\u001b[33m\u001b[1m\u001b[4mSEPALS and PETALS\u001b[0m\n",
      "\n",
      "             sepal length(cm)  sepal width(cm)  petal length(cm)  petal width(cm)\n",
      "                          5.1              3.5               1.4              0.2\n",
      "                          4.9              3.0               1.4              0.2\n",
      "                          4.7              3.2               1.3              0.2\n",
      "                          4.6              3.1               1.5              0.2\n",
      "                          5.0              3.6               1.4              0.2\n",
      "                          5.4              3.9               1.7              0.4\n",
      "                          4.6              3.4               1.4              0.3\n",
      "                          5.0              3.4               1.5              0.2\n",
      "                          4.4              2.9               1.4              0.2\n",
      "                          4.9              3.1               1.5              0.1\n",
      "\n",
      "\n",
      "\n"
     ]
    }
   ],
   "source": [
    "import pandas as pd\n",
    "from sklearn.datasets import load_iris\n",
    "\n",
    "data = load_iris()\n",
    "X, y = data.data, data.target\n",
    "\n",
    "columns = [\"sepal length(cm)\", \"sepal width(cm)\", \"petal length(cm)\", \"petal width(cm)\"]\n",
    "sepals_petals = pd.DataFrame(X[:10], columns=columns)\n",
    "\n",
    "print(\"\\t\\t\\x1b[33m\\x1b[1m\\x1b[4mSEPALS and PETALS\\x1b[0m\")\n",
    "print()\n",
    "print(sepals_petals.to_string(index=False))\n",
    "\n",
    "print(\"\\n\\n\")\n",
    "\n"
   ]
  }
 ],
 "metadata": {
  "kernelspec": {
   "display_name": "ml_venv",
   "language": "python",
   "name": "python3"
  },
  "language_info": {
   "codemirror_mode": {
    "name": "ipython",
    "version": 3
   },
   "file_extension": ".py",
   "mimetype": "text/x-python",
   "name": "python",
   "nbconvert_exporter": "python",
   "pygments_lexer": "ipython3",
   "version": "3.11.9"
  }
 },
 "nbformat": 4,
 "nbformat_minor": 5
}
